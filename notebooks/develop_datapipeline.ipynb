{
 "cells": [
  {
   "cell_type": "code",
   "execution_count": 1,
   "id": "78445171-6345-4572-9671-75d6fdfd9554",
   "metadata": {},
   "outputs": [],
   "source": [
    "from datetime import datetime\n",
    "from pyspark.sql import SparkSession\n",
    "import pyspark.sql.functions as F\n",
    "from pyspark.sql.window import Window\n",
    "from pyspark.sql import DataFrame\n",
    "from datapipeline_konfio.extractor.extractor_coingecko import ExtractorCoinGecko"
   ]
  },
  {
   "cell_type": "markdown",
   "id": "4c26f1c1-45ca-431e-902e-b65a520daa35",
   "metadata": {},
   "source": [
    "# Extracción "
   ]
  },
  {
   "cell_type": "code",
   "execution_count": 2,
   "id": "f07cc371-48e9-477d-8b36-47b50ff72f52",
   "metadata": {},
   "outputs": [],
   "source": [
    "def extraction_process(\n",
    "    spark: SparkSession, date_range: dict, api_demo_value: str, coint_to_search: str\n",
    ")->DataFrame:\n",
    "\n",
    "    obj_extractor = ExtractorCoinGecko(\n",
    "        spark, date_range, api_demo_value, coint_to_search\n",
    "    )\n",
    "    df_spark = obj_extractor.extract_data_from_source()\n",
    "\n",
    "    return df_spark"
   ]
  },
  {
   "cell_type": "markdown",
   "id": "3f56222b-2f20-4e16-a88e-97df16d9b3a2",
   "metadata": {},
   "source": [
    "# Transformación "
   ]
  },
  {
   "cell_type": "code",
   "execution_count": 3,
   "id": "10d543e8-457b-416c-8ff5-f60c52a21a78",
   "metadata": {},
   "outputs": [],
   "source": [
    "def transform_process(df_spark: DataFrame) -> DataFrame:\n",
    "\n",
    "    df_spark = df_spark.dropDuplicates()\n",
    "\n",
    "    window_spec = Window.partitionBy(\"symbol\").orderBy(\"date\").rowsBetween(-4, 0)\n",
    "\n",
    "    df_spark = df_spark.withColumn(\n",
    "        \"moving_avg_5d\", F.avg(\"price_usd\").over(window_spec)\n",
    "    )\n",
    "\n",
    "    df_spark = df_spark.orderBy(\"date\")\n",
    "\n",
    "    return df_spark"
   ]
  },
  {
   "cell_type": "markdown",
   "id": "ea71fcd2-c25a-4c4d-9f2a-36d461d341e7",
   "metadata": {},
   "source": [
    "# Carga"
   ]
  },
  {
   "cell_type": "code",
   "execution_count": 4,
   "id": "81dd582c-b726-4d59-8772-1e7aa00cbbae",
   "metadata": {},
   "outputs": [],
   "source": [
    "def load_process(df_spark: DataFrame) -> DataFrame:\n",
    "\n",
    "    (df_spark.write \\\n",
    "        .format(\"jdbc\") \\\n",
    "        .option(\"url\", \"jdbc:postgresql://postgres:5432/db_konfio\") \\\n",
    "        .option(\"dbtable\", \"tbl_coint_price\") \\\n",
    "        .option(\"user\", \"konfio\") \\\n",
    "        .option(\"password\", \"1234\") \\\n",
    "        .option(\"driver\", \"org.postgresql.Driver\") \\\n",
    "        .mode(\"overwrite\")\n",
    "        .save()\n",
    "    )"
   ]
  },
  {
   "cell_type": "code",
   "execution_count": 5,
   "id": "2a351a17-5e7c-4812-b799-2020191a3f5a",
   "metadata": {},
   "outputs": [],
   "source": [
    "if __name__ == \"__main__\":\n",
    "\n",
    "    DRIVER_PATH = \"/home/jovyan/work/drivers/postgresql-42.2.18.jar\"\n",
    "    API_DEMO_VALUE = \"CG-ioYW4FevLL58FGqWBWpym6GW\"\n",
    "    COINT_TO_SEARCH = \"Bitcoin\"\n",
    "    DATE_RANGE = {\"from_date\":datetime(2025, 3, 1),\"to_date\":datetime(2025,3,30)}\n",
    "    \n",
    "    spark = SparkSession.builder \\\n",
    "        .appName(\"Engine\") \\\n",
    "        .master(\"local[*]\") \\\n",
    "        .config(\"spark.jars\", DRIVER_PATH) \\\n",
    "        .config(\"spark.driver.extraClassPath\", DRIVER_PATH) \\\n",
    "        .config(\"spark.executor.extraClassPath\", DRIVER_PATH) \\\n",
    "        .getOrCreate()\n",
    "    \n",
    "    df_spark = extraction_process(spark,DATE_RANGE,API_DEMO_VALUE,COINT_TO_SEARCH)\n",
    "    df_spark = transform_process(df_spark)\n",
    "    load_process(df_spark)"
   ]
  },
  {
   "cell_type": "code",
   "execution_count": null,
   "id": "cc289933-fd2b-4651-8f99-2afe7a10b0a8",
   "metadata": {},
   "outputs": [],
   "source": []
  }
 ],
 "metadata": {
  "kernelspec": {
   "display_name": "Python 3 (ipykernel)",
   "language": "python",
   "name": "python3"
  },
  "language_info": {
   "codemirror_mode": {
    "name": "ipython",
    "version": 3
   },
   "file_extension": ".py",
   "mimetype": "text/x-python",
   "name": "python",
   "nbconvert_exporter": "python",
   "pygments_lexer": "ipython3",
   "version": "3.11.4"
  }
 },
 "nbformat": 4,
 "nbformat_minor": 5
}
